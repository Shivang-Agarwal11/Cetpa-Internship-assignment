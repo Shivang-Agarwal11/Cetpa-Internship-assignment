{
 "cells": [
  {
   "cell_type": "markdown",
   "metadata": {},
   "source": [
    "**QUESTION 1**"
   ]
  },
  {
   "cell_type": "code",
   "execution_count": 1,
   "metadata": {},
   "outputs": [],
   "source": [
    "# opening files\n",
    "happy=open('happy.txt')\n",
    "prime=open('prime.txt')\n",
    "\n",
    "# storing values in a list\n",
    "\n",
    "hap=(happy.read().split('\\n'))\n",
    "hap=[int(i) for i in hap]\n",
    "pri=(prime.read().split('\\n'))\n",
    "pri=[int(i) for i in pri]\n",
    "p=[]\n",
    "# storing prime numbers\n",
    "for i in pri:\n",
    "    c=0\n",
    "    for j in range(1,i//2):\n",
    "         if i%j==0:\n",
    "                c=c+1\n",
    "    if c==1:\n",
    "        p.append(i)\n",
    "h=[]\n",
    "# storing happy numbers\n",
    "for i in hap:\n",
    "    cop=i\n",
    "    while True:\n",
    "        s=sum([int(j)**2 for j in str(i)])\n",
    "        if s<9:\n",
    "            if s==1:\n",
    "                h.append(cop)\n",
    "            break\n",
    "        else:\n",
    "            i=s\n",
    "# comman elements\n",
    "if(set(p) & set(h)):\n",
    "    comman=list(set(p) & set(h))\n",
    "newfile=open('comman','w')\n",
    "for i in comman:\n",
    "    newfile.write(f'{i} \\n')\n",
    "happy.close()\n",
    "prime.close()\n",
    "newfile.close()"
   ]
  },
  {
   "cell_type": "markdown",
   "metadata": {},
   "source": [
    "**QUESTION 2**"
   ]
  },
  {
   "cell_type": "code",
   "execution_count": 2,
   "metadata": {},
   "outputs": [
    {
     "name": "stdout",
     "output_type": "stream",
     "text": [
      "Enter your chance \n",
      "Paper\n",
      "Tied\n"
     ]
    }
   ],
   "source": [
    "import random\n",
    "comp=['Rock','Paper','Scissor']\n",
    "user=input('Enter your chance \\n')\n",
    "if user=='Rock':\n",
    "    if random.choice(comp)=='Scissor':\n",
    "        print('You win!!')\n",
    "    elif random.choice(comp)=='Paper':\n",
    "        print('Computer wins!!')\n",
    "    else:\n",
    "        print(\"Tied\")\n",
    "if user=='Paper':\n",
    "    if random.choice(comp)=='Scissor':\n",
    "        print('Computer wins!!')\n",
    "    elif random.choice(comp)=='Rock':\n",
    "        print('You win!!')\n",
    "    else:\n",
    "        print(\"Tied\")\n",
    "if user=='Scissor':\n",
    "    if random.choice(comp)=='Rock':\n",
    "        print('Computer win!!')\n",
    "    elif random.choice(comp)=='Paper':\n",
    "        print('You win!!')\n",
    "    else:\n",
    "        print(\"Tied\")\n",
    "    "
   ]
  },
  {
   "cell_type": "markdown",
   "metadata": {},
   "source": [
    "**Question 3**"
   ]
  },
  {
   "cell_type": "code",
   "execution_count": 28,
   "metadata": {},
   "outputs": [
    {
     "name": "stdout",
     "output_type": "stream",
     "text": [
      "ENTER NUMBERS IN PAIRS3,4,5,2,6,8,10,4\n"
     ]
    }
   ],
   "source": [
    "# TAKING COMMA SEPERATED INTEGERS\n",
    "s=list(map(int,input('ENTER NUMBERS IN PAIRS').split(',')))\n",
    "def hcf(a,b):\n",
    "#     print(a,b)\n",
    "    for i in range(min(a,b),0,-1):\n",
    "        if(a%i==0) and (b%i==0):\n",
    "            return i"
   ]
  },
  {
   "cell_type": "code",
   "execution_count": 31,
   "metadata": {},
   "outputs": [
    {
     "name": "stdout",
     "output_type": "stream",
     "text": [
      "1,1,2,2,"
     ]
    }
   ],
   "source": [
    "hcf_list=[]\n",
    "for i in range(0,len(s),2):\n",
    "    hcf_list.append(hcf(s[i],s[i+1]))\n",
    "for j in hcf_list:\n",
    "    print(j,end=',')"
   ]
  },
  {
   "cell_type": "code",
   "execution_count": null,
   "metadata": {},
   "outputs": [],
   "source": []
  }
 ],
 "metadata": {
  "kernelspec": {
   "display_name": "Python 3",
   "language": "python",
   "name": "python3"
  },
  "language_info": {
   "codemirror_mode": {
    "name": "ipython",
    "version": 3
   },
   "file_extension": ".py",
   "mimetype": "text/x-python",
   "name": "python",
   "nbconvert_exporter": "python",
   "pygments_lexer": "ipython3",
   "version": "3.8.2"
  }
 },
 "nbformat": 4,
 "nbformat_minor": 4
}
